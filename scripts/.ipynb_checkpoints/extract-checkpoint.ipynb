{
 "cells": [
  {
   "cell_type": "code",
   "execution_count": 1,
   "id": "72e59b42",
   "metadata": {},
   "outputs": [],
   "source": [
    "import pandas as pd"
   ]
  },
  {
   "cell_type": "code",
   "execution_count": 2,
   "id": "cbfc073e",
   "metadata": {},
   "outputs": [],
   "source": [
    "import requests"
   ]
  },
  {
   "cell_type": "code",
   "execution_count": 3,
   "id": "c440fe6e",
   "metadata": {},
   "outputs": [],
   "source": [
    "\n",
    "    \n",
    "df=pd.read_csv(r'C:\\Users\\Hp\\Desktop\\priya\\DataPipeline\\Data_pipeline\\data\\source_data\\Farming_Factors\\Crops.csv')"
   ]
  },
  {
   "cell_type": "code",
   "execution_count": 8,
   "id": "4e25f8f9",
   "metadata": {},
   "outputs": [
    {
     "data": {
      "text/plain": [
       "array(['Chhattisgarh', 'Madhya Pradesh', 'Andhra Pradesh', 'Telangana',\n",
       "       'Karnataka', 'Tamil Nadu', 'Maharashtra', 'Gujarat', 'Rajasthan',\n",
       "       'Punjab', 'Haryana', 'Uttar Pradesh', 'Uttarakhand', 'Assam',\n",
       "       'Himachal Pradesh', 'Kerala', 'Orissa', 'West Bengal', 'Bihar',\n",
       "       'Jharkhand'], dtype=object)"
      ]
     },
     "execution_count": 8,
     "metadata": {},
     "output_type": "execute_result"
    }
   ],
   "source": [
    "df['State Name'].unique()"
   ]
  },
  {
   "cell_type": "code",
   "execution_count": 5,
   "id": "ef14ab74",
   "metadata": {},
   "outputs": [],
   "source": [
    "df_t = df[df['State Name'] == 'Tamil Nadu']"
   ]
  },
  {
   "cell_type": "code",
   "execution_count": 21,
   "id": "aa86de1f",
   "metadata": {},
   "outputs": [
    {
     "data": {
      "text/html": [
       "<div>\n",
       "<style scoped>\n",
       "    .dataframe tbody tr th:only-of-type {\n",
       "        vertical-align: middle;\n",
       "    }\n",
       "\n",
       "    .dataframe tbody tr th {\n",
       "        vertical-align: top;\n",
       "    }\n",
       "\n",
       "    .dataframe thead th {\n",
       "        text-align: right;\n",
       "    }\n",
       "</style>\n",
       "<table border=\"1\" class=\"dataframe\">\n",
       "  <thead>\n",
       "    <tr style=\"text-align: right;\">\n",
       "      <th></th>\n",
       "      <th>Dist Code</th>\n",
       "      <th>Year</th>\n",
       "      <th>State Code</th>\n",
       "      <th>State Name</th>\n",
       "      <th>Dist Name</th>\n",
       "      <th>RICE AREA (1000 ha)</th>\n",
       "      <th>RICE PRODUCTION (1000 tons)</th>\n",
       "      <th>RICE YIELD (Kg per ha)</th>\n",
       "      <th>WHEAT AREA (1000 ha)</th>\n",
       "      <th>WHEAT PRODUCTION (1000 tons)</th>\n",
       "      <th>...</th>\n",
       "      <th>SUGARCANE YIELD (Kg per ha)</th>\n",
       "      <th>COTTON AREA (1000 ha)</th>\n",
       "      <th>COTTON PRODUCTION (1000 tons)</th>\n",
       "      <th>COTTON YIELD (Kg per ha)</th>\n",
       "      <th>FRUITS AREA (1000 ha)</th>\n",
       "      <th>VEGETABLES AREA (1000 ha)</th>\n",
       "      <th>FRUITS AND VEGETABLES AREA (1000 ha)</th>\n",
       "      <th>POTATOES AREA (1000 ha)</th>\n",
       "      <th>ONION AREA (1000 ha)</th>\n",
       "      <th>FODDER AREA (1000 ha)</th>\n",
       "    </tr>\n",
       "  </thead>\n",
       "  <tbody>\n",
       "    <tr>\n",
       "      <th>667</th>\n",
       "      <td>84</td>\n",
       "      <td>2013</td>\n",
       "      <td>11</td>\n",
       "      <td>Tamil Nadu</td>\n",
       "      <td>South Arcot / Cuddalore</td>\n",
       "      <td>297.93</td>\n",
       "      <td>1362.57</td>\n",
       "      <td>4573.46</td>\n",
       "      <td>0.0</td>\n",
       "      <td>0.0</td>\n",
       "      <td>...</td>\n",
       "      <td>11659.17</td>\n",
       "      <td>18.2</td>\n",
       "      <td>9.3</td>\n",
       "      <td>510.99</td>\n",
       "      <td>46.33</td>\n",
       "      <td>18.13</td>\n",
       "      <td>64.46</td>\n",
       "      <td>0.0</td>\n",
       "      <td>0.13</td>\n",
       "      <td>0.58</td>\n",
       "    </tr>\n",
       "  </tbody>\n",
       "</table>\n",
       "<p>1 rows × 80 columns</p>\n",
       "</div>"
      ],
      "text/plain": [
       "     Dist Code  Year  State Code  State Name                Dist Name  \\\n",
       "667         84  2013          11  Tamil Nadu  South Arcot / Cuddalore   \n",
       "\n",
       "     RICE AREA (1000 ha)  RICE PRODUCTION (1000 tons)  RICE YIELD (Kg per ha)  \\\n",
       "667               297.93                      1362.57                 4573.46   \n",
       "\n",
       "     WHEAT AREA (1000 ha)  WHEAT PRODUCTION (1000 tons)  ...  \\\n",
       "667                   0.0                           0.0  ...   \n",
       "\n",
       "     SUGARCANE YIELD (Kg per ha)  COTTON AREA (1000 ha)  \\\n",
       "667                     11659.17                   18.2   \n",
       "\n",
       "     COTTON PRODUCTION (1000 tons)  COTTON YIELD (Kg per ha)  \\\n",
       "667                            9.3                    510.99   \n",
       "\n",
       "     FRUITS AREA (1000 ha)  VEGETABLES AREA (1000 ha)  \\\n",
       "667                  46.33                      18.13   \n",
       "\n",
       "     FRUITS AND VEGETABLES AREA (1000 ha)  POTATOES AREA (1000 ha)  \\\n",
       "667                                 64.46                      0.0   \n",
       "\n",
       "     ONION AREA (1000 ha)  FODDER AREA (1000 ha)  \n",
       "667                  0.13                   0.58  \n",
       "\n",
       "[1 rows x 80 columns]"
      ]
     },
     "execution_count": 21,
     "metadata": {},
     "output_type": "execute_result"
    }
   ],
   "source": [
    "df_t[(df_t['Year'] == 2013) & (df_t['Dist Name'] == 'South Arcot / Cuddalore')]\n"
   ]
  },
  {
   "cell_type": "code",
   "execution_count": 6,
   "id": "96a87047",
   "metadata": {},
   "outputs": [
    {
     "data": {
      "text/plain": [
       "array([2010, 2011, 2012, 2013, 2014, 2015, 2016, 2017], dtype=int64)"
      ]
     },
     "execution_count": 6,
     "metadata": {},
     "output_type": "execute_result"
    }
   ],
   "source": [
    "df_t['Year'].unique()"
   ]
  },
  {
   "cell_type": "code",
   "execution_count": null,
   "id": "077d2ec9",
   "metadata": {},
   "outputs": [],
   "source": []
  }
 ],
 "metadata": {
  "kernelspec": {
   "display_name": "Python 3 (ipykernel)",
   "language": "python",
   "name": "python3"
  },
  "language_info": {
   "codemirror_mode": {
    "name": "ipython",
    "version": 3
   },
   "file_extension": ".py",
   "mimetype": "text/x-python",
   "name": "python",
   "nbconvert_exporter": "python",
   "pygments_lexer": "ipython3",
   "version": "3.11.4"
  }
 },
 "nbformat": 4,
 "nbformat_minor": 5
}
